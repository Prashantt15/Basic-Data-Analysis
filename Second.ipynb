{
 "cells": [
  {
   "cell_type": "code",
   "execution_count": 1,
   "id": "72988963-7dd4-4454-a436-bb36e9f4ab7b",
   "metadata": {},
   "outputs": [],
   "source": [
    "import numpy as np"
   ]
  },
  {
   "cell_type": "code",
   "execution_count": 2,
   "id": "420ab28d-4e0f-4ac2-ac53-f234d35e5ff3",
   "metadata": {},
   "outputs": [
    {
     "name": "stdout",
     "output_type": "stream",
     "text": [
      "hello world\n"
     ]
    }
   ],
   "source": [
    "print(\"hello world\")"
   ]
  },
  {
   "cell_type": "code",
   "execution_count": 3,
   "id": "1825b39c-b925-4e7e-8242-ae2079f75b3e",
   "metadata": {},
   "outputs": [
    {
     "name": "stdout",
     "output_type": "stream",
     "text": [
      "[23 65 14 22]\n",
      "14\n"
     ]
    }
   ],
   "source": [
    "arr=np.array([23,65,14,22], np.int8)\n",
    "print(arr)\n",
    "print(arr[2])"
   ]
  },
  {
   "cell_type": "code",
   "execution_count": 4,
   "id": "76f58107-fbab-4c53-b21b-c66292ea3cde",
   "metadata": {},
   "outputs": [
    {
     "data": {
      "text/plain": [
       "dtype('int8')"
      ]
     },
     "execution_count": 4,
     "metadata": {},
     "output_type": "execute_result"
    }
   ],
   "source": [
    "arr.dtype"
   ]
  },
  {
   "cell_type": "code",
   "execution_count": 5,
   "id": "737be594-cd5f-4497-9277-4968f1fa40bf",
   "metadata": {},
   "outputs": [
    {
     "data": {
      "text/plain": [
       "(4,)"
      ]
     },
     "execution_count": 5,
     "metadata": {},
     "output_type": "execute_result"
    }
   ],
   "source": [
    "arr.shape"
   ]
  },
  {
   "cell_type": "code",
   "execution_count": 6,
   "id": "6e725856-4e02-4384-9562-4eb45dc2980c",
   "metadata": {},
   "outputs": [
    {
     "data": {
      "text/plain": [
       "4"
      ]
     },
     "execution_count": 6,
     "metadata": {},
     "output_type": "execute_result"
    }
   ],
   "source": [
    "arr.size"
   ]
  },
  {
   "cell_type": "code",
   "execution_count": 7,
   "id": "1e0d4b85-8406-4f8d-81c2-e45f752f1447",
   "metadata": {},
   "outputs": [
    {
     "name": "stdout",
     "output_type": "stream",
     "text": [
      "66\n"
     ]
    }
   ],
   "source": [
    "arr[2]=66\n",
    "print(arr[2])"
   ]
  },
  {
   "cell_type": "code",
   "execution_count": 8,
   "id": "94064433-20fd-42b2-8954-73dc2538634a",
   "metadata": {},
   "outputs": [
    {
     "data": {
      "text/plain": [
       "array([23, 65, 66, 22], dtype=int8)"
      ]
     },
     "execution_count": 8,
     "metadata": {},
     "output_type": "execute_result"
    }
   ],
   "source": [
    "arr"
   ]
  },
  {
   "cell_type": "markdown",
   "id": "cd8f9032-a3f6-43ff-b0d3-b0a85e19efe3",
   "metadata": {},
   "source": [
    "**zero**"
   ]
  },
  {
   "cell_type": "code",
   "execution_count": 9,
   "id": "43438f55-a193-46d0-91b7-ded23a8f94b8",
   "metadata": {},
   "outputs": [],
   "source": [
    "arrzeros=np.zeros(4)"
   ]
  },
  {
   "cell_type": "code",
   "execution_count": 10,
   "id": "8192a6da-0835-478c-9833-023783352a1b",
   "metadata": {},
   "outputs": [
    {
     "data": {
      "text/plain": [
       "array([0., 0., 0., 0.])"
      ]
     },
     "execution_count": 10,
     "metadata": {},
     "output_type": "execute_result"
    }
   ],
   "source": [
    "arrzeros"
   ]
  },
  {
   "cell_type": "code",
   "execution_count": 11,
   "id": "552f7ed5-d89e-4179-97ae-46316f7592d1",
   "metadata": {},
   "outputs": [],
   "source": [
    "arrzero=np.zeros((3,4))"
   ]
  },
  {
   "cell_type": "code",
   "execution_count": 12,
   "id": "f4261960-4527-40ed-833b-68c709793d41",
   "metadata": {},
   "outputs": [
    {
     "name": "stdout",
     "output_type": "stream",
     "text": [
      "[[0. 0. 0. 0.]\n",
      " [0. 0. 0. 0.]\n",
      " [0. 0. 0. 0.]]\n"
     ]
    }
   ],
   "source": [
    "print(arrzero)"
   ]
  },
  {
   "cell_type": "markdown",
   "id": "64d3ccf7-ab90-4577-baa4-945969b38ad4",
   "metadata": {},
   "source": [
    "**diagonal**"
   ]
  },
  {
   "cell_type": "code",
   "execution_count": 13,
   "id": "86afba37-e7af-47d9-af0a-2d89a611b11b",
   "metadata": {},
   "outputs": [
    {
     "name": "stdout",
     "output_type": "stream",
     "text": [
      "[[1. 0. 0. 0.]\n",
      " [0. 1. 0. 0.]\n",
      " [0. 0. 1. 0.]\n",
      " [0. 0. 0. 1.]]\n"
     ]
    }
   ],
   "source": [
    "arr_di=np.eye(4)\n",
    "print(arr_di)"
   ]
  },
  {
   "cell_type": "markdown",
   "id": "77e89b5c-8ca4-4c11-b4cb-b6b03f8f472f",
   "metadata": {},
   "source": [
    "**range**"
   ]
  },
  {
   "cell_type": "code",
   "execution_count": 14,
   "id": "1f4a75d6-4d21-462a-a71d-5fa3d75e3888",
   "metadata": {},
   "outputs": [
    {
     "name": "stdout",
     "output_type": "stream",
     "text": [
      "[0 1 2 3 4 5 6]\n"
     ]
    }
   ],
   "source": [
    "arr_ran=np.arange(7)\n",
    "print(arr_ran)"
   ]
  },
  {
   "cell_type": "markdown",
   "id": "a10f6f5e-4586-41f7-9319-da1ed4089ee5",
   "metadata": {},
   "source": [
    "**linspace**"
   ]
  },
  {
   "cell_type": "code",
   "execution_count": 15,
   "id": "09675d57-b086-4cd4-9811-6a214404502d",
   "metadata": {},
   "outputs": [
    {
     "name": "stdout",
     "output_type": "stream",
     "text": [
      "[ 0.  5. 10. 15. 20.]\n"
     ]
    }
   ],
   "source": [
    "arr_lin=np.linspace(0,20,num=5)\n",
    "print(arr_lin)"
   ]
  },
  {
   "cell_type": "code",
   "execution_count": null,
   "id": "d9938ca7-ed23-467c-a425-838cb5ebfc01",
   "metadata": {},
   "outputs": [],
   "source": []
  }
 ],
 "metadata": {
  "kernelspec": {
   "display_name": "Python 3 (ipykernel)",
   "language": "python",
   "name": "python3"
  },
  "language_info": {
   "codemirror_mode": {
    "name": "ipython",
    "version": 3
   },
   "file_extension": ".py",
   "mimetype": "text/x-python",
   "name": "python",
   "nbconvert_exporter": "python",
   "pygments_lexer": "ipython3",
   "version": "3.13.0"
  }
 },
 "nbformat": 4,
 "nbformat_minor": 5
}
