{
 "cells": [
  {
   "cell_type": "markdown",
   "id": "ee9962d5-f472-43c7-aec2-1cc2890bf979",
   "metadata": {},
   "source": [
    "# Random, Data types and Operations"
   ]
  },
  {
   "cell_type": "markdown",
   "id": "655d5a2a-079b-4d2a-946f-d7ee4fc18098",
   "metadata": {},
   "source": [
    "**-----Create numpy arrays with random numbers**"
   ]
  },
  {
   "cell_type": "code",
   "execution_count": 1,
   "id": "3ed10e06-96a4-47ab-a97e-0bf69dc5b77a",
   "metadata": {},
   "outputs": [],
   "source": [
    "import numpy as np"
   ]
  },
  {
   "cell_type": "markdown",
   "id": "8f5e5bc9-8315-4f6f-b9a3-aee7d02c6121",
   "metadata": {},
   "source": [
    "***rand()***"
   ]
  },
  {
   "cell_type": "code",
   "execution_count": 2,
   "id": "ed9a5154-038b-40c4-bf4a-71b3d2f85d3f",
   "metadata": {},
   "outputs": [
    {
     "name": "stdout",
     "output_type": "stream",
     "text": [
      "[[0.49152345 0.50736523 0.81557883 0.04766154]\n",
      " [0.79928365 0.63535071 0.27738942 0.53542193]\n",
      " [0.88794942 0.52254896 0.70852865 0.31294916]]\n"
     ]
    }
   ],
   "source": [
    "arr=np.random.rand(3,4)\n",
    "print(arr)"
   ]
  },
  {
   "cell_type": "markdown",
   "id": "55a78ee3-2ba5-40d3-be8f-d6382d0ed429",
   "metadata": {},
   "source": [
    "***randn()***"
   ]
  },
  {
   "cell_type": "code",
   "execution_count": 3,
   "id": "19473641-f5b3-4661-a1a6-e256acd18635",
   "metadata": {},
   "outputs": [
    {
     "name": "stdout",
     "output_type": "stream",
     "text": [
      "[[ 0.53191294  0.76395778]\n",
      " [-0.26250006  1.63739635]\n",
      " [ 0.49287856 -1.12282667]]\n"
     ]
    }
   ],
   "source": [
    "arr2=np.random.randn(3,2)\n",
    "print(arr2)"
   ]
  },
  {
   "cell_type": "markdown",
   "id": "2a63ef30-dbce-4ade-9d53-35101a3ad51f",
   "metadata": {},
   "source": [
    "***ranf()***"
   ]
  },
  {
   "cell_type": "code",
   "execution_count": 4,
   "id": "7412a848-aeaa-4d6f-9fc3-5cd20a7a7543",
   "metadata": {},
   "outputs": [
    {
     "name": "stdout",
     "output_type": "stream",
     "text": [
      "[[0.63882264 0.54129071]\n",
      " [0.75822916 0.96120298]]\n"
     ]
    }
   ],
   "source": [
    "arr3=np.random.ranf(size=(2,2))\n",
    "print(arr3)"
   ]
  },
  {
   "cell_type": "code",
   "execution_count": 5,
   "id": "3f2d90fb-d647-48be-b8f7-8dad7fd3c1ca",
   "metadata": {},
   "outputs": [
    {
     "name": "stdout",
     "output_type": "stream",
     "text": [
      "[0.54752807 0.81724575 0.47059952]\n"
     ]
    }
   ],
   "source": [
    "arr_3=np.random.ranf(3)\n",
    "print(arr_3)"
   ]
  },
  {
   "cell_type": "markdown",
   "id": "382cef03-330f-4c9b-9049-ce23107461ed",
   "metadata": {},
   "source": [
    "***randint()***"
   ]
  },
  {
   "cell_type": "code",
   "execution_count": 6,
   "id": "b0bdd9de-713d-4311-b879-0c17fb80bab0",
   "metadata": {},
   "outputs": [
    {
     "name": "stdout",
     "output_type": "stream",
     "text": [
      "[ 4 37 45 46 85]\n"
     ]
    }
   ],
   "source": [
    "arr4=np.random.randint(2,89,5)\n",
    "print(arr4)"
   ]
  },
  {
   "cell_type": "markdown",
   "id": "1a8fbf45-74a0-418e-a9e6-408f1ffa8f99",
   "metadata": {},
   "source": [
    "**-----Data types**"
   ]
  },
  {
   "cell_type": "code",
   "execution_count": 7,
   "id": "e61a27d0-d1a0-4cd2-9389-cd357126f53f",
   "metadata": {},
   "outputs": [
    {
     "name": "stdout",
     "output_type": "stream",
     "text": [
      "datatype:- int64\n"
     ]
    }
   ],
   "source": [
    "var=np.array([1,2,3,4])\n",
    "print(\"datatype:-\",var.dtype)"
   ]
  },
  {
   "cell_type": "code",
   "execution_count": 8,
   "id": "a2ddaf3d-d528-4dc2-af38-7946cb0e67ea",
   "metadata": {},
   "outputs": [
    {
     "name": "stdout",
     "output_type": "stream",
     "text": [
      "datatype:- int8\n"
     ]
    }
   ],
   "source": [
    "var2=np.array([23,45,23,11,3], np.int8)\n",
    "print(\"datatype:-\",var2.dtype)"
   ]
  },
  {
   "cell_type": "code",
   "execution_count": 9,
   "id": "8068c98c-359c-4baa-90d6-c7d584b9a545",
   "metadata": {},
   "outputs": [
    {
     "name": "stdout",
     "output_type": "stream",
     "text": [
      "datatype:- <U1\n"
     ]
    }
   ],
   "source": [
    "var3=np.array([\"a\",\"b\",\"c\"])\n",
    "print(\"datatype:-\",var3.dtype)"
   ]
  },
  {
   "cell_type": "code",
   "execution_count": 10,
   "id": "9836cc06-3cd1-4a80-a366-7394c88e5f71",
   "metadata": {},
   "outputs": [
    {
     "name": "stdout",
     "output_type": "stream",
     "text": [
      "datatype:- <U21\n"
     ]
    }
   ],
   "source": [
    "var4=np.array([\"a\",2,\"b\",45,\"c\"])\n",
    "print(\"datatype:-\",var4.dtype)"
   ]
  },
  {
   "cell_type": "code",
   "execution_count": 11,
   "id": "1a8b7dcd-f6d7-492d-b07b-570b0673fbe1",
   "metadata": {},
   "outputs": [
    {
     "name": "stdout",
     "output_type": "stream",
     "text": [
      "int32\n",
      "[1 2 3 4]\n"
     ]
    }
   ],
   "source": [
    "var5=np.array(([1,2,3,4]), dtype=\"i\")\n",
    "print(var5.dtype)\n",
    "print(var5)"
   ]
  },
  {
   "cell_type": "markdown",
   "id": "3f3c970d-bd12-41b9-b4cb-fa74690fdb2e",
   "metadata": {},
   "source": [
    "***Max and Min fuctions***"
   ]
  },
  {
   "cell_type": "code",
   "execution_count": 12,
   "id": "6c80ccce-70f2-4cda-97eb-185fa5930856",
   "metadata": {},
   "outputs": [
    {
     "name": "stdout",
     "output_type": "stream",
     "text": [
      "maximum value:- 33 at 4 index\n",
      "minimum value:- 1 at 0 index\n"
     ]
    }
   ],
   "source": [
    "a=np.array([1,2,3,6,33,33,33,4,5,8])\n",
    "print(\"maximum value:-\",np.max(a),\"at\",np.argmax(a),\"index\")\n",
    "print(\"minimum value:-\",np.min(a),\"at\",np.argmin(a),\"index\")"
   ]
  },
  {
   "cell_type": "code",
   "execution_count": 13,
   "id": "209cedec-b252-4973-a3eb-c2a06407b393",
   "metadata": {},
   "outputs": [
    {
     "name": "stdout",
     "output_type": "stream",
     "text": [
      "[ 2 76 43 56]\n",
      "[56 76]\n"
     ]
    }
   ],
   "source": [
    "b=np.array([[2,31,43,56],[2,76,35,22]])\n",
    "print(np.max(b,axis=0))\n",
    "print(np.max(b,axis=1))"
   ]
  },
  {
   "cell_type": "code",
   "execution_count": 14,
   "id": "bde35e0b-b191-4591-9b1d-2d99595de022",
   "metadata": {},
   "outputs": [
    {
     "name": "stdout",
     "output_type": "stream",
     "text": [
      "[ 2 31 35 22]\n",
      "[2 2]\n"
     ]
    }
   ],
   "source": [
    "print(np.min(b,axis=0))\n",
    "print(np.min(b,axis=1))"
   ]
  },
  {
   "cell_type": "code",
   "execution_count": null,
   "id": "91b3c82e-6a95-4fb7-acdf-41e76775bbe4",
   "metadata": {},
   "outputs": [],
   "source": []
  }
 ],
 "metadata": {
  "kernelspec": {
   "display_name": "Python 3 (ipykernel)",
   "language": "python",
   "name": "python3"
  },
  "language_info": {
   "codemirror_mode": {
    "name": "ipython",
    "version": 3
   },
   "file_extension": ".py",
   "mimetype": "text/x-python",
   "name": "python",
   "nbconvert_exporter": "python",
   "pygments_lexer": "ipython3",
   "version": "3.13.0"
  }
 },
 "nbformat": 4,
 "nbformat_minor": 5
}
